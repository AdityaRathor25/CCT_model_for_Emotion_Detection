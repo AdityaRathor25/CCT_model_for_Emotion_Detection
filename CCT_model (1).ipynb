{
  "cells": [
    {
      "cell_type": "code",
      "execution_count": 1,
      "metadata": {
        "colab": {
          "base_uri": "https://localhost:8080/"
        },
        "id": "UlXEuWYCvLNv",
        "outputId": "70de33ff-0261-42df-c4f3-7f955ad3c870"
      },
      "outputs": [
        {
          "output_type": "stream",
          "name": "stdout",
          "text": [
            "Mounted at /content/drive\n"
          ]
        }
      ],
      "source": [
        "from google.colab import drive\n",
        "drive.mount('/content/drive')"
      ]
    },
    {
      "cell_type": "code",
      "source": [
        "!pip install tensorflow-addons"
      ],
      "metadata": {
        "colab": {
          "base_uri": "https://localhost:8080/"
        },
        "id": "_zXVFmykyd-T",
        "outputId": "df7a4cd3-6765-4a5f-9d47-c406eba76ef4"
      },
      "execution_count": 2,
      "outputs": [
        {
          "output_type": "stream",
          "name": "stdout",
          "text": [
            "Collecting tensorflow-addons\n",
            "  Downloading tensorflow_addons-0.23.0-cp310-cp310-manylinux_2_17_x86_64.manylinux2014_x86_64.whl (611 kB)\n",
            "\u001b[?25l     \u001b[90m━━━━━━━━━━━━━━━━━━━━━━━━━━━━━━━━━━━━━━━━\u001b[0m \u001b[32m0.0/611.8 kB\u001b[0m \u001b[31m?\u001b[0m eta \u001b[36m-:--:--\u001b[0m\r\u001b[2K     \u001b[91m━━━━\u001b[0m\u001b[91m╸\u001b[0m\u001b[90m━━━━━━━━━━━━━━━━━━━━━━━━━━━━━━━━━━━\u001b[0m \u001b[32m71.7/611.8 kB\u001b[0m \u001b[31m2.0 MB/s\u001b[0m eta \u001b[36m0:00:01\u001b[0m\r\u001b[2K     \u001b[90m━━━━━━━━━━━━━━━━━━━━━━━━━━━━━━━━━━━━━━━━\u001b[0m \u001b[32m611.8/611.8 kB\u001b[0m \u001b[31m9.2 MB/s\u001b[0m eta \u001b[36m0:00:00\u001b[0m\n",
            "\u001b[?25hRequirement already satisfied: packaging in /usr/local/lib/python3.10/dist-packages (from tensorflow-addons) (24.1)\n",
            "Collecting typeguard<3.0.0,>=2.7 (from tensorflow-addons)\n",
            "  Downloading typeguard-2.13.3-py3-none-any.whl (17 kB)\n",
            "Installing collected packages: typeguard, tensorflow-addons\n",
            "Successfully installed tensorflow-addons-0.23.0 typeguard-2.13.3\n"
          ]
        }
      ]
    },
    {
      "cell_type": "code",
      "execution_count": 3,
      "metadata": {
        "id": "dNut0RuovlI0",
        "colab": {
          "base_uri": "https://localhost:8080/"
        },
        "outputId": "447d7c04-8286-46ff-b5b7-30ff57f31e39"
      },
      "outputs": [
        {
          "output_type": "stream",
          "name": "stderr",
          "text": [
            "/usr/local/lib/python3.10/dist-packages/tensorflow_addons/utils/tfa_eol_msg.py:23: UserWarning: \n",
            "\n",
            "TensorFlow Addons (TFA) has ended development and introduction of new features.\n",
            "TFA has entered a minimal maintenance and release mode until a planned end of life in May 2024.\n",
            "Please modify downstream libraries to take dependencies from other repositories in our TensorFlow community (e.g. Keras, Keras-CV, and Keras-NLP). \n",
            "\n",
            "For more information see: https://github.com/tensorflow/addons/issues/2807 \n",
            "\n",
            "  warnings.warn(\n"
          ]
        }
      ],
      "source": [
        "import os\n",
        "import cv2\n",
        "import numpy as np\n",
        "from PIL import Image\n",
        "import matplotlib.pyplot as plt\n",
        "from sklearn.model_selection import train_test_split\n",
        "import tensorflow as tf\n",
        "import tensorflow_addons as tfa\n",
        "from tensorflow.keras import layers, models, regularizers\n",
        "from tensorflow.keras.applications import ResNet50\n",
        "from tensorflow.keras.layers import GlobalAveragePooling2D, Dense\n",
        "# from keras import layers\n",
        "import keras"
      ]
    },
    {
      "cell_type": "code",
      "execution_count": 4,
      "metadata": {
        "colab": {
          "base_uri": "https://localhost:8080/"
        },
        "id": "bliwdQgmv4_1",
        "outputId": "ce04e0b2-fe49-4d44-b294-3b773a68d18d"
      },
      "outputs": [
        {
          "output_type": "stream",
          "name": "stdout",
          "text": [
            "0\n",
            "1\n",
            "2\n",
            "3\n",
            "4\n",
            "5\n",
            "6\n",
            "also add test files\n",
            "0\n",
            "1\n",
            "2\n",
            "3\n",
            "4\n",
            "5\n",
            "6\n"
          ]
        }
      ],
      "source": [
        "input_shape = (32, 32, 3)\n",
        "num_classes = 7\n",
        "Images = []\n",
        "Labels = []\n",
        "for j in range(7):\n",
        "  print(j)\n",
        "  driver = os.listdir(\"/content/drive/MyDrive/FER2013_dataset/train\" + \"/\" + str(j))\n",
        "  for i in driver:\n",
        "        try:\n",
        "            image = cv2.imread(\"/content/drive/MyDrive/FER2013_dataset/train/\"+ str(j)+\"/\"+str(i))\n",
        "            images = Image.fromarray(image)\n",
        "            images = images.resize((32,32))\n",
        "            images = np.array(images)\n",
        "            images = images/255\n",
        "            Images.append(images)\n",
        "            Labels.append(j)\n",
        "        except AttributeError:\n",
        "          print('Error')\n",
        "\n",
        "print(\"also add test files\")\n",
        "\n",
        "for j in range(7):\n",
        "  print(j)\n",
        "  driver = os.listdir(\"/content/drive/MyDrive/FER2013_dataset/test\" + \"/\" + str(j))\n",
        "  for i in driver:\n",
        "        try:\n",
        "            image = cv2.imread(\"/content/drive/MyDrive/FER2013_dataset/test/\"+ str(j)+\"/\"+str(i))\n",
        "            images = Image.fromarray(image)\n",
        "            images = images.resize((32,32))\n",
        "            images = np.array(images)\n",
        "            images = images/255\n",
        "            Images.append(images)\n",
        "            Labels.append(j)\n",
        "        except AttributeError:\n",
        "          print('Error')"
      ]
    },
    {
      "cell_type": "code",
      "execution_count": 5,
      "metadata": {
        "id": "XAzCUFtkwBMr",
        "colab": {
          "base_uri": "https://localhost:8080/"
        },
        "outputId": "4f89432f-612c-4182-a703-2fefe52bbe23"
      },
      "outputs": [
        {
          "output_type": "stream",
          "name": "stdout",
          "text": [
            "(35887, 32, 32, 3)\n",
            "(35887,)\n"
          ]
        }
      ],
      "source": [
        "Images = np.array(Images)\n",
        "print(Images.shape)\n",
        "Labels = np.array(Labels)\n",
        "print(Labels.shape)\n"
      ]
    },
    {
      "cell_type": "code",
      "execution_count": 6,
      "metadata": {
        "id": "5RUh1ia_wEZn",
        "colab": {
          "base_uri": "https://localhost:8080/"
        },
        "outputId": "6660f152-bbb0-4a82-8539-cdcf31b5b29f"
      },
      "outputs": [
        {
          "output_type": "stream",
          "name": "stdout",
          "text": [
            "x_train shape: (28709, 32, 32, 3) - y_train shape: (28709, 7)\n",
            "x_test shape: (7178, 32, 32, 3) - y_test shape: (7178, 7)\n"
          ]
        }
      ],
      "source": [
        "\n",
        "x_train, x_test, y_train, y_test = train_test_split(Images, Labels, train_size = 0.8,test_size=0.2, random_state=42, stratify=Labels)\n",
        "\n",
        "y_train = keras.utils.to_categorical(y_train, num_classes)\n",
        "y_test = keras.utils.to_categorical(y_test, num_classes)\n",
        "\n",
        "print(f\"x_train shape: {x_train.shape} - y_train shape: {y_train.shape}\")\n",
        "print(f\"x_test shape: {x_test.shape} - y_test shape: {y_test.shape}\")"
      ]
    },
    {
      "cell_type": "code",
      "execution_count": 21,
      "metadata": {
        "id": "6sEuAlNNvqlA"
      },
      "outputs": [],
      "source": [
        "positional_emb = True\n",
        "conv_layers = 2\n",
        "projection_dim = 128\n",
        "\n",
        "num_heads = 2\n",
        "transformer_units = [\n",
        "    projection_dim,\n",
        "    projection_dim,\n",
        "]\n",
        "transformer_layers = 2\n",
        "stochastic_depth_rate = 0.1\n",
        "\n",
        "learning_rate = 0.0001\n",
        "weight_decay = 0.0001\n",
        "batch_size = 128\n",
        "num_epochs = 100\n",
        "image_size = 32"
      ]
    },
    {
      "cell_type": "code",
      "execution_count": 8,
      "metadata": {
        "id": "b_yD_0cfwL6p"
      },
      "outputs": [],
      "source": [
        "\n",
        "class CCTTokenizer(layers.Layer):\n",
        "    def __init__(\n",
        "        self,\n",
        "        kernel_size=3,\n",
        "        stride=1,\n",
        "        padding=1,\n",
        "        pooling_kernel_size=3,\n",
        "        pooling_stride=2,\n",
        "        num_conv_layers=conv_layers,\n",
        "        num_output_channels=[64, 128],\n",
        "        positional_emb=positional_emb,\n",
        "        **kwargs,\n",
        "    ):\n",
        "        super().__init__(**kwargs)\n",
        "\n",
        "        # This is our tokenizer.\n",
        "        self.conv_model = models.Sequential()\n",
        "        for i in range(num_conv_layers):\n",
        "            self.conv_model.add(\n",
        "                layers.Conv2D(\n",
        "                    num_output_channels[i],\n",
        "                    kernel_size,\n",
        "                    stride,\n",
        "                    padding=\"valid\",\n",
        "                    use_bias=False,\n",
        "                    activation=\"relu\",\n",
        "                    kernel_initializer=\"he_normal\",\n",
        "                )\n",
        "            )\n",
        "            self.conv_model.add(layers.ZeroPadding2D(padding))\n",
        "            self.conv_model.add(\n",
        "                layers.MaxPooling2D(pooling_kernel_size, pooling_stride, \"same\")\n",
        "            )\n",
        "\n",
        "        self.positional_emb = positional_emb\n",
        "\n",
        "    def call(self, images):\n",
        "        # if len(images.shape) == 3:\n",
        "        #     images = tf.expand_dims(images, axis=-1)\n",
        "\n",
        "        outputs = self.conv_model(images)\n",
        "        # After passing the images through our mini-network the spatial dimensions\n",
        "        # are flattened to form sequences.\n",
        "        reshaped = tf.reshape(\n",
        "            outputs,\n",
        "            (\n",
        "                -1,\n",
        "                tf.shape(outputs)[1] * tf.shape(outputs)[2],\n",
        "                tf.shape(outputs)[-1]\n",
        "            )\n",
        "        )\n",
        "        # print(f\"Tokenizer output shape: {reshaped.shape}\")  # Debug statement\n",
        "        return reshaped\n"
      ]
    },
    {
      "cell_type": "code",
      "execution_count": 9,
      "metadata": {
        "id": "8mcgnncYwdeZ"
      },
      "outputs": [],
      "source": [
        "\n",
        "class PositionEmbedding(keras.layers.Layer):\n",
        "    def __init__(\n",
        "        self,\n",
        "        sequence_length,\n",
        "        initializer=\"glorot_uniform\",\n",
        "        **kwargs,\n",
        "    ):\n",
        "        super().__init__(**kwargs)\n",
        "        if sequence_length is None:\n",
        "            raise ValueError(\"`sequence_length` must be an Integer, received `None`.\")\n",
        "        self.sequence_length = int(sequence_length)\n",
        "        self.initializer = keras.initializers.get(initializer)\n",
        "\n",
        "    def get_config(self):\n",
        "        config = super().get_config()\n",
        "        config.update(\n",
        "            {\n",
        "                \"sequence_length\": self.sequence_length,\n",
        "                \"initializer\": keras.initializers.serialize(self.initializer),\n",
        "            }\n",
        "        )\n",
        "        return config\n",
        "\n",
        "    def build(self, input_shape):\n",
        "        feature_size = input_shape[-1]\n",
        "        self.position_embeddings = self.add_weight(\n",
        "            name=\"embeddings\",\n",
        "            shape=[self.sequence_length, feature_size],\n",
        "            initializer=self.initializer,\n",
        "            trainable=True,\n",
        "        )\n",
        "\n",
        "        super().build(input_shape)\n",
        "\n",
        "    def call(self, inputs, start_index=0):\n",
        "        shape = tf.shape(inputs)\n",
        "        feature_length = shape[-1]\n",
        "        sequence_length = shape[-2]\n",
        "        # trim to match the length of the input sequence, which might be less\n",
        "        # than the sequence_length of the layer.\n",
        "        position_embeddings = tf.convert_to_tensor(self.position_embeddings)\n",
        "        position_embeddings = tf.slice(\n",
        "            position_embeddings,\n",
        "            (start_index, 0),\n",
        "            (sequence_length, feature_length),\n",
        "        )\n",
        "        return tf.broadcast_to(position_embeddings, shape)\n",
        "\n",
        "    def compute_output_shape(self, input_shape):\n",
        "        return input_shape\n"
      ]
    },
    {
      "cell_type": "code",
      "execution_count": 10,
      "metadata": {
        "id": "JbaoZDiowgp3"
      },
      "outputs": [],
      "source": [
        "\n",
        "class SequencePooling(layers.Layer):\n",
        "    def __init__(self):\n",
        "        super().__init__()\n",
        "        self.attention = layers.Dense(1)\n",
        "\n",
        "    def call(self, x):\n",
        "        attention_weights = tf.nn.softmax(self.attention(x), axis=1)\n",
        "        attention_weights = tf.transpose(attention_weights, perm=[0, 2, 1])\n",
        "        weighted_representation = tf.matmul(attention_weights, x)\n",
        "        return tf.squeeze(weighted_representation, axis=-2)\n"
      ]
    },
    {
      "cell_type": "code",
      "execution_count": 11,
      "metadata": {
        "id": "v0Vdkln-wjgI"
      },
      "outputs": [],
      "source": [
        "\n",
        "# Referred from: github.com:rwightman/pytorch-image-models.\n",
        "class StochasticDepth(layers.Layer):\n",
        "    def __init__(self, drop_prop, **kwargs):\n",
        "        super().__init__(**kwargs)\n",
        "        self.drop_prob = drop_prop\n",
        "        self.seed_generator = tf.random.set_seed(1337)\n",
        "\n",
        "    def call(self, x, training=None):\n",
        "        if training:\n",
        "            keep_prob = 1 - self.drop_prob\n",
        "            shape = (tf.shape(x)[0],) + (1,) * (len(x.shape) - 1)\n",
        "            random_tensor = keep_prob + tf.random.uniform(\n",
        "                shape, 0, 1, seed=self.seed_generator\n",
        "            )\n",
        "            random_tensor = tf.floor(random_tensor)\n",
        "            return (x / keep_prob) * random_tensor\n",
        "        return x\n"
      ]
    },
    {
      "cell_type": "code",
      "execution_count": 12,
      "metadata": {
        "id": "58weMy00wmTp"
      },
      "outputs": [],
      "source": [
        "def mlp(x, hidden_units, dropout_rate):\n",
        "    for units in hidden_units:\n",
        "        x = tf.keras.layers.Dense(units, activation=tfa.activations.gelu)(x)\n",
        "        x = tf.keras.layers.Dropout(dropout_rate)(x)\n",
        "    return x"
      ]
    },
    {
      "cell_type": "code",
      "execution_count": 16,
      "metadata": {
        "id": "M8eauJA1wo_-"
      },
      "outputs": [],
      "source": [
        "# Note the rescaling layer. These layers have pre-defined inference behavior.\n",
        "data_augmentation = models.Sequential(\n",
        "    [\n",
        "        layers.Rescaling(scale=1.0 / 255),\n",
        "        layers.RandomCrop(image_size, image_size),\n",
        "        layers.RandomFlip(\"horizontal\"),\n",
        "        # layers.RandomRotation(0.2),  # Add rotation\n",
        "        # layers.RandomZoom(0.2),\n",
        "    ],\n",
        "    name=\"data_augmentation\",\n",
        "\n",
        "    )"
      ]
    },
    {
      "cell_type": "code",
      "execution_count": 20,
      "metadata": {
        "id": "gbpuoWxHwt0Z"
      },
      "outputs": [],
      "source": [
        "\n",
        "def create_cct_model(\n",
        "    image_size=image_size,\n",
        "    input_shape=input_shape,\n",
        "    num_heads=num_heads,\n",
        "    projection_dim=projection_dim,\n",
        "    transformer_units=transformer_units,\n",
        "):\n",
        "    inputs = layers.Input(input_shape)\n",
        "\n",
        "    augmented = data_augmentation(inputs)\n",
        "\n",
        "    # base_model = ResNet50(weights='imagenet', include_top=False, input_shape=input_shape)\n",
        "    # base_model.trainable = False  # Freeze the ResNet50 layers\n",
        "\n",
        "    # # Use the ResNet model to extract features\n",
        "    # x = base_model(augmented, training=False)\n",
        "    # x = GlobalAveragePooling2D()(x)  # Pool the features\n",
        "\n",
        "    # reshape_layer = layers.Lambda(lambda new: tf.reshape(new, [-1, 1, 2048]))\n",
        "    # x = reshape_layer(x)\n",
        "\n",
        "    # Encode patches.\n",
        "    cct_tokenizer = CCTTokenizer()\n",
        "    # encoded_patches = cct_tokenizer(x)\n",
        "    encoded_patches = cct_tokenizer(augmented)\n",
        "\n",
        "    # Apply positional embedding.\n",
        "    if positional_emb:\n",
        "        sequence_length = encoded_patches.shape[1]\n",
        "        encoded_patches += PositionEmbedding(sequence_length=sequence_length)(\n",
        "            encoded_patches\n",
        "        )\n",
        "\n",
        "    # Calculate Stochastic Depth probabilities.\n",
        "    dpr = [x for x in np.linspace(0, stochastic_depth_rate, transformer_layers)]\n",
        "\n",
        "    # Create multiple layers of the Transformer block.\n",
        "    for i in range(transformer_layers):\n",
        "        # Layer normalization 1.\n",
        "        x1 = layers.LayerNormalization(epsilon=1e-5)(encoded_patches)\n",
        "\n",
        "         # Create a multi-head attention layer.\n",
        "        attention_output = layers.MultiHeadAttention(\n",
        "            num_heads=num_heads, key_dim=projection_dim, dropout=0.2\n",
        "        )(x1, x1)\n",
        "\n",
        "        # Skip connection 1.\n",
        "        attention_output = StochasticDepth(dpr[i])(attention_output)\n",
        "\n",
        "        x2 = layers.Add()([attention_output, encoded_patches])\n",
        "        # Layer normalization 2.\n",
        "        x3 = layers.LayerNormalization(epsilon=1e-5)(x2)\n",
        "\n",
        "\n",
        "        # MLP.\n",
        "        x3 = mlp(x3, hidden_units=transformer_units, dropout_rate=0.2)\n",
        "\n",
        "        # Skip connection 2.\n",
        "        x3 = StochasticDepth(dpr[i])(x3)\n",
        "        encoded_patches = layers.Add()([x3, x2])\n",
        "\n",
        "\n",
        "    # Apply sequence pooling.\n",
        "    representation = layers.LayerNormalization(epsilon=1e-5)(encoded_patches)\n",
        "    weighted_representation = SequencePooling()(representation)\n",
        "    # features = layers.Flatten()(weighted_representation)\n",
        "    # features = layers.Dropout(0.4)(features)\n",
        "\n",
        "    # Classify outputs.\n",
        "    # logits = layers.Dense(num_classes, kernel_regularizer=regularizers.l2(weight_decay))(weighted_representation)\n",
        "    logits = layers.Dense(num_classes)(weighted_representation)\n",
        "    # Create the Keras model.\n",
        "    model = models.Model(inputs=inputs, outputs=logits)\n",
        "    return model\n",
        "\n"
      ]
    },
    {
      "cell_type": "code",
      "execution_count": 22,
      "metadata": {
        "id": "0wcgsCcYwvzZ",
        "colab": {
          "base_uri": "https://localhost:8080/"
        },
        "outputId": "68f6e7b5-5d61-4f64-b0bc-da54355904d4"
      },
      "outputs": [
        {
          "output_type": "stream",
          "name": "stdout",
          "text": [
            "Epoch 1/100\n",
            "202/202 [==============================] - 13s 42ms/step - loss: 1.8678 - accuracy: 0.2258 - top-5-accuracy: 0.8565 - val_loss: 1.8390 - val_accuracy: 0.2630 - val_top-5-accuracy: 0.8680\n",
            "Epoch 2/100\n",
            "202/202 [==============================] - 8s 41ms/step - loss: 1.8536 - accuracy: 0.2411 - top-5-accuracy: 0.8631 - val_loss: 1.8199 - val_accuracy: 0.2619 - val_top-5-accuracy: 0.9046\n",
            "Epoch 3/100\n",
            "202/202 [==============================] - 7s 36ms/step - loss: 1.8389 - accuracy: 0.2407 - top-5-accuracy: 0.8857 - val_loss: 1.8129 - val_accuracy: 0.2696 - val_top-5-accuracy: 0.9039\n",
            "Epoch 4/100\n",
            "202/202 [==============================] - 8s 38ms/step - loss: 1.8308 - accuracy: 0.2465 - top-5-accuracy: 0.8886 - val_loss: 1.8135 - val_accuracy: 0.2665 - val_top-5-accuracy: 0.9018\n",
            "Epoch 5/100\n",
            "202/202 [==============================] - 8s 37ms/step - loss: 1.8288 - accuracy: 0.2502 - top-5-accuracy: 0.8919 - val_loss: 1.8096 - val_accuracy: 0.2682 - val_top-5-accuracy: 0.9000\n",
            "Epoch 6/100\n",
            "202/202 [==============================] - 8s 38ms/step - loss: 1.8269 - accuracy: 0.2457 - top-5-accuracy: 0.8929 - val_loss: 1.8087 - val_accuracy: 0.2710 - val_top-5-accuracy: 0.9039\n",
            "Epoch 7/100\n",
            "202/202 [==============================] - 8s 39ms/step - loss: 1.8240 - accuracy: 0.2525 - top-5-accuracy: 0.8951 - val_loss: 1.8177 - val_accuracy: 0.2532 - val_top-5-accuracy: 0.9018\n",
            "Epoch 8/100\n",
            "202/202 [==============================] - 7s 36ms/step - loss: 1.8231 - accuracy: 0.2527 - top-5-accuracy: 0.8952 - val_loss: 1.8084 - val_accuracy: 0.2577 - val_top-5-accuracy: 0.9070\n",
            "Epoch 9/100\n",
            "202/202 [==============================] - 8s 38ms/step - loss: 1.8208 - accuracy: 0.2542 - top-5-accuracy: 0.8988 - val_loss: 1.8023 - val_accuracy: 0.2710 - val_top-5-accuracy: 0.9087\n",
            "Epoch 10/100\n",
            "202/202 [==============================] - 7s 36ms/step - loss: 1.8182 - accuracy: 0.2557 - top-5-accuracy: 0.8997 - val_loss: 1.8087 - val_accuracy: 0.2577 - val_top-5-accuracy: 0.9129\n",
            "Epoch 11/100\n",
            "202/202 [==============================] - 8s 38ms/step - loss: 1.8147 - accuracy: 0.2605 - top-5-accuracy: 0.9016 - val_loss: 1.8011 - val_accuracy: 0.2738 - val_top-5-accuracy: 0.9080\n",
            "Epoch 12/100\n",
            "202/202 [==============================] - 8s 37ms/step - loss: 1.8115 - accuracy: 0.2614 - top-5-accuracy: 0.9038 - val_loss: 1.7945 - val_accuracy: 0.2814 - val_top-5-accuracy: 0.9115\n",
            "Epoch 13/100\n",
            "202/202 [==============================] - 8s 39ms/step - loss: 1.8083 - accuracy: 0.2648 - top-5-accuracy: 0.9055 - val_loss: 1.7881 - val_accuracy: 0.2776 - val_top-5-accuracy: 0.9161\n",
            "Epoch 14/100\n",
            "202/202 [==============================] - 8s 39ms/step - loss: 1.8063 - accuracy: 0.2658 - top-5-accuracy: 0.9063 - val_loss: 1.7892 - val_accuracy: 0.2800 - val_top-5-accuracy: 0.9143\n",
            "Epoch 15/100\n",
            "202/202 [==============================] - 7s 37ms/step - loss: 1.8045 - accuracy: 0.2682 - top-5-accuracy: 0.9068 - val_loss: 1.7893 - val_accuracy: 0.2821 - val_top-5-accuracy: 0.9157\n",
            "Epoch 16/100\n",
            "202/202 [==============================] - 8s 38ms/step - loss: 1.8028 - accuracy: 0.2696 - top-5-accuracy: 0.9071 - val_loss: 1.7879 - val_accuracy: 0.2828 - val_top-5-accuracy: 0.9195\n",
            "Epoch 17/100\n",
            "202/202 [==============================] - 7s 36ms/step - loss: 1.8012 - accuracy: 0.2707 - top-5-accuracy: 0.9093 - val_loss: 1.7793 - val_accuracy: 0.2884 - val_top-5-accuracy: 0.9230\n",
            "Epoch 18/100\n",
            "202/202 [==============================] - 8s 39ms/step - loss: 1.7993 - accuracy: 0.2730 - top-5-accuracy: 0.9093 - val_loss: 1.7832 - val_accuracy: 0.2846 - val_top-5-accuracy: 0.9164\n",
            "Epoch 19/100\n",
            "202/202 [==============================] - 8s 38ms/step - loss: 1.7969 - accuracy: 0.2748 - top-5-accuracy: 0.9110 - val_loss: 1.7834 - val_accuracy: 0.2842 - val_top-5-accuracy: 0.9185\n",
            "Epoch 20/100\n",
            "202/202 [==============================] - 8s 41ms/step - loss: 1.7942 - accuracy: 0.2759 - top-5-accuracy: 0.9118 - val_loss: 1.7822 - val_accuracy: 0.2821 - val_top-5-accuracy: 0.9192\n",
            "Epoch 21/100\n",
            "202/202 [==============================] - 8s 37ms/step - loss: 1.7961 - accuracy: 0.2725 - top-5-accuracy: 0.9112 - val_loss: 1.7915 - val_accuracy: 0.2814 - val_top-5-accuracy: 0.9171\n",
            "Epoch 22/100\n",
            "202/202 [==============================] - 8s 37ms/step - loss: 1.7914 - accuracy: 0.2761 - top-5-accuracy: 0.9136 - val_loss: 1.7713 - val_accuracy: 0.2947 - val_top-5-accuracy: 0.9276\n",
            "Epoch 23/100\n",
            "202/202 [==============================] - 8s 38ms/step - loss: 1.7897 - accuracy: 0.2784 - top-5-accuracy: 0.9155 - val_loss: 1.7685 - val_accuracy: 0.2915 - val_top-5-accuracy: 0.9279\n",
            "Epoch 24/100\n",
            "202/202 [==============================] - 8s 38ms/step - loss: 1.7874 - accuracy: 0.2786 - top-5-accuracy: 0.9164 - val_loss: 1.7611 - val_accuracy: 0.3006 - val_top-5-accuracy: 0.9269\n",
            "Epoch 25/100\n",
            "202/202 [==============================] - 8s 39ms/step - loss: 1.7834 - accuracy: 0.2831 - top-5-accuracy: 0.9174 - val_loss: 1.7573 - val_accuracy: 0.3020 - val_top-5-accuracy: 0.9324\n",
            "Epoch 26/100\n",
            "202/202 [==============================] - 7s 36ms/step - loss: 1.7779 - accuracy: 0.2866 - top-5-accuracy: 0.9181 - val_loss: 1.7484 - val_accuracy: 0.3093 - val_top-5-accuracy: 0.9265\n",
            "Epoch 27/100\n",
            "202/202 [==============================] - 8s 39ms/step - loss: 1.7755 - accuracy: 0.2882 - top-5-accuracy: 0.9179 - val_loss: 1.7503 - val_accuracy: 0.3002 - val_top-5-accuracy: 0.9321\n",
            "Epoch 28/100\n",
            "202/202 [==============================] - 8s 38ms/step - loss: 1.7661 - accuracy: 0.2955 - top-5-accuracy: 0.9214 - val_loss: 1.7225 - val_accuracy: 0.3267 - val_top-5-accuracy: 0.9383\n",
            "Epoch 29/100\n",
            "202/202 [==============================] - 8s 37ms/step - loss: 1.7494 - accuracy: 0.3048 - top-5-accuracy: 0.9268 - val_loss: 1.7251 - val_accuracy: 0.3274 - val_top-5-accuracy: 0.9328\n",
            "Epoch 30/100\n",
            "202/202 [==============================] - 8s 39ms/step - loss: 1.7474 - accuracy: 0.3064 - top-5-accuracy: 0.9253 - val_loss: 1.7054 - val_accuracy: 0.3386 - val_top-5-accuracy: 0.9328\n",
            "Epoch 31/100\n",
            "202/202 [==============================] - 7s 36ms/step - loss: 1.7374 - accuracy: 0.3160 - top-5-accuracy: 0.9304 - val_loss: 1.6988 - val_accuracy: 0.3459 - val_top-5-accuracy: 0.9394\n",
            "Epoch 32/100\n",
            "202/202 [==============================] - 8s 40ms/step - loss: 1.7322 - accuracy: 0.3191 - top-5-accuracy: 0.9302 - val_loss: 1.6958 - val_accuracy: 0.3511 - val_top-5-accuracy: 0.9383\n",
            "Epoch 33/100\n",
            "202/202 [==============================] - 7s 37ms/step - loss: 1.7272 - accuracy: 0.3241 - top-5-accuracy: 0.9325 - val_loss: 1.6861 - val_accuracy: 0.3619 - val_top-5-accuracy: 0.9418\n",
            "Epoch 34/100\n",
            "202/202 [==============================] - 8s 38ms/step - loss: 1.7238 - accuracy: 0.3251 - top-5-accuracy: 0.9325 - val_loss: 1.6932 - val_accuracy: 0.3427 - val_top-5-accuracy: 0.9443\n",
            "Epoch 35/100\n",
            "202/202 [==============================] - 8s 38ms/step - loss: 1.7205 - accuracy: 0.3288 - top-5-accuracy: 0.9314 - val_loss: 1.6926 - val_accuracy: 0.3584 - val_top-5-accuracy: 0.9335\n",
            "Epoch 36/100\n",
            "202/202 [==============================] - 7s 36ms/step - loss: 1.7100 - accuracy: 0.3368 - top-5-accuracy: 0.9338 - val_loss: 1.6762 - val_accuracy: 0.3528 - val_top-5-accuracy: 0.9439\n",
            "Epoch 37/100\n",
            "202/202 [==============================] - 8s 39ms/step - loss: 1.7086 - accuracy: 0.3366 - top-5-accuracy: 0.9349 - val_loss: 1.7264 - val_accuracy: 0.3514 - val_top-5-accuracy: 0.9258\n",
            "Epoch 38/100\n",
            "202/202 [==============================] - 7s 37ms/step - loss: 1.7023 - accuracy: 0.3408 - top-5-accuracy: 0.9345 - val_loss: 1.7007 - val_accuracy: 0.3602 - val_top-5-accuracy: 0.9317\n",
            "Epoch 39/100\n",
            "202/202 [==============================] - 8s 40ms/step - loss: 1.7062 - accuracy: 0.3397 - top-5-accuracy: 0.9340 - val_loss: 1.6660 - val_accuracy: 0.3563 - val_top-5-accuracy: 0.9485\n",
            "Epoch 40/100\n",
            "202/202 [==============================] - 8s 38ms/step - loss: 1.6932 - accuracy: 0.3490 - top-5-accuracy: 0.9360 - val_loss: 1.6697 - val_accuracy: 0.3640 - val_top-5-accuracy: 0.9411\n",
            "Epoch 41/100\n",
            "202/202 [==============================] - 8s 38ms/step - loss: 1.6997 - accuracy: 0.3456 - top-5-accuracy: 0.9343 - val_loss: 1.6427 - val_accuracy: 0.3772 - val_top-5-accuracy: 0.9474\n",
            "Epoch 42/100\n",
            "202/202 [==============================] - 7s 36ms/step - loss: 1.6927 - accuracy: 0.3493 - top-5-accuracy: 0.9367 - val_loss: 1.6681 - val_accuracy: 0.3737 - val_top-5-accuracy: 0.9383\n",
            "Epoch 43/100\n",
            "202/202 [==============================] - 8s 38ms/step - loss: 1.6856 - accuracy: 0.3541 - top-5-accuracy: 0.9377 - val_loss: 1.6652 - val_accuracy: 0.3532 - val_top-5-accuracy: 0.9471\n",
            "Epoch 44/100\n",
            "202/202 [==============================] - 8s 39ms/step - loss: 1.6861 - accuracy: 0.3571 - top-5-accuracy: 0.9376 - val_loss: 1.6350 - val_accuracy: 0.3779 - val_top-5-accuracy: 0.9502\n",
            "Epoch 45/100\n",
            "202/202 [==============================] - 8s 37ms/step - loss: 1.6859 - accuracy: 0.3549 - top-5-accuracy: 0.9379 - val_loss: 1.6596 - val_accuracy: 0.3838 - val_top-5-accuracy: 0.9373\n",
            "Epoch 46/100\n",
            "202/202 [==============================] - 8s 38ms/step - loss: 1.6823 - accuracy: 0.3557 - top-5-accuracy: 0.9384 - val_loss: 1.6917 - val_accuracy: 0.3379 - val_top-5-accuracy: 0.9411\n",
            "Epoch 47/100\n",
            "202/202 [==============================] - 7s 36ms/step - loss: 1.6880 - accuracy: 0.3538 - top-5-accuracy: 0.9349 - val_loss: 1.6401 - val_accuracy: 0.3835 - val_top-5-accuracy: 0.9436\n",
            "Epoch 48/100\n",
            "202/202 [==============================] - 8s 38ms/step - loss: 1.6865 - accuracy: 0.3549 - top-5-accuracy: 0.9355 - val_loss: 1.6709 - val_accuracy: 0.3556 - val_top-5-accuracy: 0.9338\n",
            "Epoch 49/100\n",
            "202/202 [==============================] - 7s 36ms/step - loss: 1.6784 - accuracy: 0.3602 - top-5-accuracy: 0.9375 - val_loss: 1.6393 - val_accuracy: 0.3894 - val_top-5-accuracy: 0.9502\n",
            "Epoch 50/100\n",
            "202/202 [==============================] - 8s 39ms/step - loss: 1.6774 - accuracy: 0.3595 - top-5-accuracy: 0.9390 - val_loss: 1.6257 - val_accuracy: 0.3898 - val_top-5-accuracy: 0.9481\n",
            "Epoch 51/100\n",
            "202/202 [==============================] - 8s 38ms/step - loss: 1.6775 - accuracy: 0.3619 - top-5-accuracy: 0.9380 - val_loss: 1.6280 - val_accuracy: 0.3943 - val_top-5-accuracy: 0.9481\n",
            "Epoch 52/100\n",
            "202/202 [==============================] - 8s 39ms/step - loss: 1.6730 - accuracy: 0.3662 - top-5-accuracy: 0.9385 - val_loss: 1.6432 - val_accuracy: 0.3838 - val_top-5-accuracy: 0.9425\n",
            "Epoch 53/100\n",
            "202/202 [==============================] - 8s 40ms/step - loss: 1.6748 - accuracy: 0.3639 - top-5-accuracy: 0.9377 - val_loss: 1.6162 - val_accuracy: 0.4026 - val_top-5-accuracy: 0.9502\n",
            "Epoch 54/100\n",
            "202/202 [==============================] - 8s 38ms/step - loss: 1.6618 - accuracy: 0.3721 - top-5-accuracy: 0.9420 - val_loss: 1.6128 - val_accuracy: 0.3995 - val_top-5-accuracy: 0.9519\n",
            "Epoch 55/100\n",
            "202/202 [==============================] - 8s 42ms/step - loss: 1.6606 - accuracy: 0.3736 - top-5-accuracy: 0.9425 - val_loss: 1.6120 - val_accuracy: 0.4040 - val_top-5-accuracy: 0.9502\n",
            "Epoch 56/100\n",
            "202/202 [==============================] - 7s 37ms/step - loss: 1.6755 - accuracy: 0.3647 - top-5-accuracy: 0.9372 - val_loss: 1.6519 - val_accuracy: 0.3772 - val_top-5-accuracy: 0.9436\n",
            "Epoch 57/100\n",
            "202/202 [==============================] - 8s 41ms/step - loss: 1.6629 - accuracy: 0.3739 - top-5-accuracy: 0.9419 - val_loss: 1.6054 - val_accuracy: 0.4089 - val_top-5-accuracy: 0.9516\n",
            "Epoch 58/100\n",
            "202/202 [==============================] - 8s 38ms/step - loss: 1.6634 - accuracy: 0.3729 - top-5-accuracy: 0.9405 - val_loss: 1.6183 - val_accuracy: 0.4089 - val_top-5-accuracy: 0.9457\n",
            "Epoch 59/100\n",
            "202/202 [==============================] - 7s 37ms/step - loss: 1.6604 - accuracy: 0.3765 - top-5-accuracy: 0.9419 - val_loss: 1.6095 - val_accuracy: 0.4065 - val_top-5-accuracy: 0.9554\n",
            "Epoch 60/100\n",
            "202/202 [==============================] - 8s 38ms/step - loss: 1.6613 - accuracy: 0.3750 - top-5-accuracy: 0.9407 - val_loss: 1.6284 - val_accuracy: 0.3964 - val_top-5-accuracy: 0.9474\n",
            "Epoch 61/100\n",
            "202/202 [==============================] - 8s 38ms/step - loss: 1.6609 - accuracy: 0.3753 - top-5-accuracy: 0.9423 - val_loss: 1.6230 - val_accuracy: 0.3894 - val_top-5-accuracy: 0.9481\n",
            "Epoch 62/100\n",
            "202/202 [==============================] - 8s 40ms/step - loss: 1.6529 - accuracy: 0.3813 - top-5-accuracy: 0.9436 - val_loss: 1.6210 - val_accuracy: 0.4030 - val_top-5-accuracy: 0.9498\n",
            "Epoch 63/100\n",
            "202/202 [==============================] - 7s 36ms/step - loss: 1.6499 - accuracy: 0.3791 - top-5-accuracy: 0.9432 - val_loss: 1.6794 - val_accuracy: 0.3744 - val_top-5-accuracy: 0.9377\n",
            "Epoch 64/100\n",
            "202/202 [==============================] - 8s 38ms/step - loss: 1.6556 - accuracy: 0.3790 - top-5-accuracy: 0.9417 - val_loss: 1.6041 - val_accuracy: 0.4114 - val_top-5-accuracy: 0.9547\n",
            "Epoch 65/100\n",
            "202/202 [==============================] - 7s 37ms/step - loss: 1.6499 - accuracy: 0.3799 - top-5-accuracy: 0.9443 - val_loss: 1.6530 - val_accuracy: 0.3772 - val_top-5-accuracy: 0.9481\n",
            "Epoch 66/100\n",
            "202/202 [==============================] - 8s 38ms/step - loss: 1.6513 - accuracy: 0.3789 - top-5-accuracy: 0.9439 - val_loss: 1.5902 - val_accuracy: 0.4134 - val_top-5-accuracy: 0.9572\n",
            "Epoch 67/100\n",
            "202/202 [==============================] - 8s 38ms/step - loss: 1.6605 - accuracy: 0.3785 - top-5-accuracy: 0.9414 - val_loss: 1.6991 - val_accuracy: 0.3281 - val_top-5-accuracy: 0.9481\n",
            "Epoch 68/100\n",
            "202/202 [==============================] - 7s 37ms/step - loss: 1.6553 - accuracy: 0.3813 - top-5-accuracy: 0.9427 - val_loss: 1.5961 - val_accuracy: 0.4138 - val_top-5-accuracy: 0.9547\n",
            "Epoch 69/100\n",
            "202/202 [==============================] - 8s 38ms/step - loss: 1.6433 - accuracy: 0.3867 - top-5-accuracy: 0.9462 - val_loss: 1.6179 - val_accuracy: 0.3985 - val_top-5-accuracy: 0.9505\n",
            "Epoch 70/100\n",
            "202/202 [==============================] - 7s 36ms/step - loss: 1.6495 - accuracy: 0.3851 - top-5-accuracy: 0.9425 - val_loss: 1.6014 - val_accuracy: 0.4103 - val_top-5-accuracy: 0.9526\n",
            "Epoch 71/100\n",
            "202/202 [==============================] - 8s 39ms/step - loss: 1.6513 - accuracy: 0.3816 - top-5-accuracy: 0.9442 - val_loss: 1.6300 - val_accuracy: 0.3793 - val_top-5-accuracy: 0.9457\n",
            "Epoch 72/100\n",
            "202/202 [==============================] - 8s 38ms/step - loss: 1.6489 - accuracy: 0.3828 - top-5-accuracy: 0.9436 - val_loss: 1.5972 - val_accuracy: 0.4086 - val_top-5-accuracy: 0.9551\n",
            "Epoch 73/100\n",
            "202/202 [==============================] - 8s 40ms/step - loss: 1.6418 - accuracy: 0.3864 - top-5-accuracy: 0.9456 - val_loss: 1.6025 - val_accuracy: 0.4037 - val_top-5-accuracy: 0.9554\n",
            "Epoch 74/100\n",
            "202/202 [==============================] - 7s 37ms/step - loss: 1.6426 - accuracy: 0.3873 - top-5-accuracy: 0.9448 - val_loss: 1.6086 - val_accuracy: 0.3995 - val_top-5-accuracy: 0.9568\n",
            "Epoch 75/100\n",
            "202/202 [==============================] - 8s 39ms/step - loss: 1.6548 - accuracy: 0.3775 - top-5-accuracy: 0.9419 - val_loss: 1.6156 - val_accuracy: 0.4002 - val_top-5-accuracy: 0.9498\n",
            "Epoch 76/100\n",
            "202/202 [==============================] - 8s 38ms/step - loss: 1.6449 - accuracy: 0.3871 - top-5-accuracy: 0.9450 - val_loss: 1.6425 - val_accuracy: 0.3932 - val_top-5-accuracy: 0.9457\n",
            "Epoch 77/100\n",
            "202/202 [==============================] - 7s 36ms/step - loss: 1.6388 - accuracy: 0.3891 - top-5-accuracy: 0.9456 - val_loss: 1.5882 - val_accuracy: 0.4093 - val_top-5-accuracy: 0.9603\n",
            "Epoch 78/100\n",
            "202/202 [==============================] - 8s 40ms/step - loss: 1.6514 - accuracy: 0.3815 - top-5-accuracy: 0.9442 - val_loss: 1.5962 - val_accuracy: 0.4114 - val_top-5-accuracy: 0.9544\n",
            "Epoch 79/100\n",
            "202/202 [==============================] - 8s 38ms/step - loss: 1.6486 - accuracy: 0.3836 - top-5-accuracy: 0.9433 - val_loss: 1.5863 - val_accuracy: 0.4082 - val_top-5-accuracy: 0.9565\n",
            "Epoch 80/100\n",
            "202/202 [==============================] - 8s 39ms/step - loss: 1.6317 - accuracy: 0.3920 - top-5-accuracy: 0.9461 - val_loss: 1.5815 - val_accuracy: 0.4152 - val_top-5-accuracy: 0.9575\n",
            "Epoch 81/100\n",
            "202/202 [==============================] - 8s 38ms/step - loss: 1.6401 - accuracy: 0.3926 - top-5-accuracy: 0.9452 - val_loss: 1.5949 - val_accuracy: 0.4061 - val_top-5-accuracy: 0.9572\n",
            "Epoch 82/100\n",
            "202/202 [==============================] - 8s 40ms/step - loss: 1.6418 - accuracy: 0.3870 - top-5-accuracy: 0.9461 - val_loss: 1.5838 - val_accuracy: 0.4169 - val_top-5-accuracy: 0.9586\n",
            "Epoch 83/100\n",
            "202/202 [==============================] - 8s 39ms/step - loss: 1.6472 - accuracy: 0.3842 - top-5-accuracy: 0.9434 - val_loss: 1.5967 - val_accuracy: 0.4006 - val_top-5-accuracy: 0.9568\n",
            "Epoch 84/100\n",
            "202/202 [==============================] - 7s 37ms/step - loss: 1.6399 - accuracy: 0.3890 - top-5-accuracy: 0.9459 - val_loss: 1.5867 - val_accuracy: 0.4169 - val_top-5-accuracy: 0.9582\n",
            "Epoch 85/100\n",
            "202/202 [==============================] - 8s 39ms/step - loss: 1.6365 - accuracy: 0.3938 - top-5-accuracy: 0.9449 - val_loss: 1.6070 - val_accuracy: 0.4103 - val_top-5-accuracy: 0.9495\n",
            "Epoch 86/100\n",
            "202/202 [==============================] - 8s 38ms/step - loss: 1.6361 - accuracy: 0.3916 - top-5-accuracy: 0.9452 - val_loss: 1.6313 - val_accuracy: 0.3845 - val_top-5-accuracy: 0.9523\n",
            "Epoch 87/100\n",
            "202/202 [==============================] - 8s 38ms/step - loss: 1.6420 - accuracy: 0.3883 - top-5-accuracy: 0.9443 - val_loss: 1.7526 - val_accuracy: 0.3351 - val_top-5-accuracy: 0.9042\n",
            "Epoch 88/100\n",
            "202/202 [==============================] - 8s 37ms/step - loss: 1.6398 - accuracy: 0.3901 - top-5-accuracy: 0.9446 - val_loss: 1.5979 - val_accuracy: 0.4148 - val_top-5-accuracy: 0.9471\n",
            "Epoch 89/100\n",
            "202/202 [==============================] - 8s 38ms/step - loss: 1.6443 - accuracy: 0.3871 - top-5-accuracy: 0.9439 - val_loss: 1.6163 - val_accuracy: 0.3981 - val_top-5-accuracy: 0.9464\n",
            "Epoch 90/100\n",
            "202/202 [==============================] - 8s 40ms/step - loss: 1.6398 - accuracy: 0.3923 - top-5-accuracy: 0.9436 - val_loss: 1.5769 - val_accuracy: 0.4166 - val_top-5-accuracy: 0.9589\n",
            "Epoch 91/100\n",
            "202/202 [==============================] - 8s 38ms/step - loss: 1.6492 - accuracy: 0.3828 - top-5-accuracy: 0.9445 - val_loss: 1.6348 - val_accuracy: 0.4016 - val_top-5-accuracy: 0.9373\n",
            "Epoch 92/100\n",
            "202/202 [==============================] - 8s 38ms/step - loss: 1.6494 - accuracy: 0.3844 - top-5-accuracy: 0.9416 - val_loss: 1.6016 - val_accuracy: 0.4138 - val_top-5-accuracy: 0.9554\n",
            "Epoch 93/100\n",
            "202/202 [==============================] - 7s 36ms/step - loss: 1.6544 - accuracy: 0.3820 - top-5-accuracy: 0.9419 - val_loss: 1.7065 - val_accuracy: 0.3490 - val_top-5-accuracy: 0.9404\n",
            "Epoch 94/100\n",
            "202/202 [==============================] - 8s 38ms/step - loss: 1.6453 - accuracy: 0.3864 - top-5-accuracy: 0.9440 - val_loss: 1.5924 - val_accuracy: 0.4114 - val_top-5-accuracy: 0.9592\n",
            "Epoch 95/100\n",
            "202/202 [==============================] - 8s 39ms/step - loss: 1.6345 - accuracy: 0.3929 - top-5-accuracy: 0.9467 - val_loss: 1.5737 - val_accuracy: 0.4197 - val_top-5-accuracy: 0.9606\n",
            "Epoch 96/100\n",
            "202/202 [==============================] - 8s 39ms/step - loss: 1.6317 - accuracy: 0.3945 - top-5-accuracy: 0.9465 - val_loss: 1.6387 - val_accuracy: 0.3953 - val_top-5-accuracy: 0.9383\n",
            "Epoch 97/100\n",
            "202/202 [==============================] - 8s 40ms/step - loss: 1.6428 - accuracy: 0.3878 - top-5-accuracy: 0.9433 - val_loss: 1.6435 - val_accuracy: 0.3657 - val_top-5-accuracy: 0.9554\n",
            "Epoch 98/100\n",
            "202/202 [==============================] - 7s 36ms/step - loss: 1.6393 - accuracy: 0.3905 - top-5-accuracy: 0.9438 - val_loss: 1.7262 - val_accuracy: 0.3354 - val_top-5-accuracy: 0.9248\n",
            "Epoch 99/100\n",
            "202/202 [==============================] - 8s 38ms/step - loss: 1.6375 - accuracy: 0.3923 - top-5-accuracy: 0.9434 - val_loss: 1.6175 - val_accuracy: 0.3981 - val_top-5-accuracy: 0.9558\n",
            "Epoch 100/100\n",
            "202/202 [==============================] - 7s 36ms/step - loss: 1.6377 - accuracy: 0.3897 - top-5-accuracy: 0.9453 - val_loss: 1.5880 - val_accuracy: 0.4121 - val_top-5-accuracy: 0.9533\n",
            "225/225 [==============================] - 2s 9ms/step - loss: 1.5979 - accuracy: 0.4087 - top-5-accuracy: 0.9532\n",
            "Test accuracy: 40.87%\n",
            "Test top 5 accuracy: 95.32%\n"
          ]
        }
      ],
      "source": [
        "def run_experiment(model):\n",
        "    optimizer = tfa.optimizers.AdamW(learning_rate=learning_rate, weight_decay=weight_decay)\n",
        "\n",
        "    model.compile(\n",
        "        optimizer=optimizer,\n",
        "        loss=tf.keras.losses.CategoricalCrossentropy(\n",
        "            from_logits=True, label_smoothing=0.1\n",
        "        ),\n",
        "        metrics=[\n",
        "            keras.metrics.CategoricalAccuracy(name=\"accuracy\"),\n",
        "            keras.metrics.TopKCategoricalAccuracy(5, name=\"top-5-accuracy\"),\n",
        "        ],\n",
        "    )\n",
        "\n",
        "    checkpoint_filepath = \"/tmp/checkpoint.weights.h5\"\n",
        "    checkpoint_callback = tf.keras.callbacks.ModelCheckpoint(\n",
        "        checkpoint_filepath,\n",
        "        monitor=\"val_accuracy\",\n",
        "        save_best_only=True,\n",
        "        save_weights_only=True,\n",
        "    )\n",
        "    # early_stopping_callback = keras.callbacks.EarlyStopping(\n",
        "    #     monitor='val_loss', patience=10, restore_best_weights=True)\n",
        "\n",
        "    # history = model.fit(\n",
        "    #     x=x_train,\n",
        "    #     y=y_train,\n",
        "    #     batch_size=batch_size,\n",
        "    #     epochs=num_epochs,\n",
        "    #     validation_split=0.1,\n",
        "    #     callbacks=[checkpoint_callback, early_stopping_callback],\n",
        "    # )\n",
        "    history = model.fit(\n",
        "        x=x_train,\n",
        "        y=y_train,\n",
        "        batch_size=batch_size,\n",
        "        epochs=num_epochs,\n",
        "        validation_split=0.1,\n",
        "        callbacks=[checkpoint_callback],\n",
        "    )\n",
        "\n",
        "    model.load_weights(checkpoint_filepath)\n",
        "    _, accuracy, top_5_accuracy = model.evaluate(x_test, y_test)\n",
        "    print(f\"Test accuracy: {round(accuracy * 100, 2)}%\")\n",
        "    print(f\"Test top 5 accuracy: {round(top_5_accuracy * 100, 2)}%\")\n",
        "\n",
        "    return history\n",
        "\n",
        "\n",
        "cct_model = create_cct_model()\n",
        "history = run_experiment(cct_model)"
      ]
    },
    {
      "cell_type": "code",
      "execution_count": 23,
      "metadata": {
        "id": "1TVqVtohByk5",
        "colab": {
          "base_uri": "https://localhost:8080/",
          "height": 473
        },
        "outputId": "e3a3056d-1d5a-4d85-a515-c986bdc0e76e"
      },
      "outputs": [
        {
          "output_type": "display_data",
          "data": {
            "text/plain": [
              "<Figure size 640x480 with 1 Axes>"
            ],
            "image/png": "[encoded data removed]"
          },
          "metadata": {}
        }
      ],
      "source": [
        "plt.plot(history.history[\"loss\"], label=\"train_loss\")\n",
        "plt.plot(history.history[\"val_loss\"], label=\"val_loss\")\n",
        "plt.xlabel(\"Epochs\")\n",
        "plt.ylabel(\"Loss\")\n",
        "plt.title(\"Train and Validation Losses Over Epochs\", fontsize=14)\n",
        "plt.legend()\n",
        "plt.grid()\n",
        "plt.show()"
      ]
    }
  ],
  "metadata": {
    "accelerator": "GPU",
    "colab": {
      "gpuType": "T4",
      "provenance": []
    },
    "kernelspec": {
      "display_name": "Python 3",
      "name": "python3"
    },
    "language_info": {
      "name": "python"
    }
  },
  "nbformat": 4,
  "nbformat_minor": 0
}